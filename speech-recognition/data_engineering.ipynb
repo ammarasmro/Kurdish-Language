{
 "cells": [
  {
   "cell_type": "markdown",
   "metadata": {},
   "source": [
    "# Experimentation"
   ]
  },
  {
   "cell_type": "markdown",
   "metadata": {},
   "source": [
    "This notebook aims to explore ways to process the dataset and include the filenames, duration, and scripts in a JSON file. The actual data processors are in the utils directory"
   ]
  },
  {
   "cell_type": "code",
   "execution_count": 1,
   "metadata": {
    "collapsed": true
   },
   "outputs": [],
   "source": [
    "import os\n",
    "import wave\n",
    "import json\n",
    "\n",
    "import soundfile as sf"
   ]
  },
  {
   "cell_type": "code",
   "execution_count": 9,
   "metadata": {
    "collapsed": true
   },
   "outputs": [],
   "source": [
    "data_path = os.path.join('..', 'data')"
   ]
  },
  {
   "cell_type": "code",
   "execution_count": 11,
   "metadata": {},
   "outputs": [
    {
     "data": {
      "text/plain": [
       "['BABEL_OP2_205_11096_20130410_000324_inLine.txt',\n",
       " 'BABEL_OP2_205_11096_20130410_000324_outLine.txt',\n",
       " 'BABEL_OP2_205_10319_20130304_201724_inLine.txt',\n",
       " 'BABEL_OP2_205_10019_20130330_212743_inLine.txt',\n",
       " 'BABEL_OP2_205_10319_20130304_201724_outLine.txt',\n",
       " 'BABEL_OP2_205_10019_20130330_212743_outLine.txt']"
      ]
     },
     "execution_count": 11,
     "metadata": {},
     "output_type": "execute_result"
    }
   ],
   "source": [
    "os.listdir(data_path)"
   ]
  },
  {
   "cell_type": "code",
   "execution_count": 12,
   "metadata": {
    "collapsed": true
   },
   "outputs": [],
   "source": [
    "first_file = os.listdir(data_path)[0]"
   ]
  },
  {
   "cell_type": "code",
   "execution_count": 15,
   "metadata": {
    "collapsed": true
   },
   "outputs": [],
   "source": [
    "first_file_content = ''\n",
    "with open(os.path.join(data_path, first_file)) as f:\n",
    "    first_file_content = f.read()"
   ]
  },
  {
   "cell_type": "code",
   "execution_count": null,
   "metadata": {
    "scrolled": true
   },
   "outputs": [],
   "source": [
    "time = True\n",
    "for line in first_file_content.split('\\n'):\n",
    "    if not time: print(line, end=' ')\n",
    "    time = not time"
   ]
  },
  {
   "cell_type": "code",
   "execution_count": 36,
   "metadata": {
    "collapsed": true
   },
   "outputs": [],
   "source": [
    "audio = wave.open(os.path.join(data_path, 'testwavout.wav'))"
   ]
  },
  {
   "cell_type": "code",
   "execution_count": 33,
   "metadata": {
    "collapsed": true
   },
   "outputs": [],
   "source": [
    "data, sample_rate = sf.read(os.path.join(data_path, 'BABEL_OP2_205_10036_20130325_213533_S8_scripted.wav'))"
   ]
  },
  {
   "cell_type": "code",
   "execution_count": 34,
   "metadata": {
    "collapsed": true
   },
   "outputs": [],
   "source": [
    "sf.write('testwavout.wav', data, sample_rate)"
   ]
  },
  {
   "cell_type": "code",
   "execution_count": 37,
   "metadata": {},
   "outputs": [
    {
     "data": {
      "text/plain": [
       "12.64"
      ]
     },
     "execution_count": 37,
     "metadata": {},
     "output_type": "execute_result"
    }
   ],
   "source": [
    "float(audio.getnframes()) / audio.getframerate()"
   ]
  },
  {
   "cell_type": "code",
   "execution_count": 52,
   "metadata": {
    "collapsed": true
   },
   "outputs": [],
   "source": [
    "file_dict = {'key': os.path.join(data_path, 'testwavout.wav'), 'duration': float(audio.getnframes()) / audio.getframerate(),\n",
    "            'transcript': b'blablabla\\u2013'.decode('unicode_escape')}"
   ]
  },
  {
   "cell_type": "code",
   "execution_count": 53,
   "metadata": {},
   "outputs": [
    {
     "data": {
      "text/plain": [
       "'{\"key\": \"../data/testwavout.wav\", \"duration\": 12.64, \"transcript\": \"blablabla\\\\u2013\"}'"
      ]
     },
     "execution_count": 53,
     "metadata": {},
     "output_type": "execute_result"
    }
   ],
   "source": [
    "json.dumps(file_dict)"
   ]
  },
  {
   "cell_type": "code",
   "execution_count": 54,
   "metadata": {},
   "outputs": [
    {
     "data": {
      "text/plain": [
       "{'key': '../data/testwavout.wav',\n",
       " 'duration': 12.64,\n",
       " 'transcript': 'blablabla–'}"
      ]
     },
     "execution_count": 54,
     "metadata": {},
     "output_type": "execute_result"
    }
   ],
   "source": [
    "file_dict"
   ]
  }
 ],
 "metadata": {
  "kernelspec": {
   "display_name": "Python 3",
   "language": "python",
   "name": "python3"
  },
  "language_info": {
   "codemirror_mode": {
    "name": "ipython",
    "version": 3
   },
   "file_extension": ".py",
   "mimetype": "text/x-python",
   "name": "python",
   "nbconvert_exporter": "python",
   "pygments_lexer": "ipython3",
   "version": "3.6.5"
  }
 },
 "nbformat": 4,
 "nbformat_minor": 2
}
