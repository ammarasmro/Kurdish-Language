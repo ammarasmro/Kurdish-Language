{
 "cells": [
  {
   "cell_type": "markdown",
   "metadata": {},
   "source": [
    "# Dependencies"
   ]
  },
  {
   "cell_type": "code",
   "execution_count": 20,
   "metadata": {},
   "outputs": [],
   "source": [
    "import os\n",
    "import sys\n",
    "\n",
    "from py2neo import Graph, Path"
   ]
  },
  {
   "cell_type": "code",
   "execution_count": 22,
   "metadata": {},
   "outputs": [],
   "source": [
    "# Setup the conversation data path\n",
    "data_file_path = os.path.join('.', 'data', 'seq-to-seq-embedded-start-end.txt')"
   ]
  },
  {
   "cell_type": "markdown",
   "metadata": {},
   "source": [
    "# Graph client\n",
    "\n",
    "* We will set up the connection\n",
    "* Demonstrate that it's working with sample queries\n",
    "* Define the functionality"
   ]
  },
  {
   "cell_type": "code",
   "execution_count": 4,
   "metadata": {},
   "outputs": [],
   "source": [
    "# To set up the graph\n",
    "# Change the <password> To the neo4j database password\n",
    "graph = Graph(\"http://neo4j:<password>@localhost:7474\")"
   ]
  },
  {
   "cell_type": "markdown",
   "metadata": {},
   "source": [
    "Create a Word node"
   ]
  },
  {
   "cell_type": "code",
   "execution_count": 11,
   "metadata": {},
   "outputs": [
    {
     "data": {
      "text/plain": [
       "<py2neo.database.Cursor at 0x10f847048>"
      ]
     },
     "execution_count": 11,
     "metadata": {},
     "output_type": "execute_result"
    }
   ],
   "source": [
    "graph.run(\n",
    "    '''\n",
    "    MERGE (w:Word {text: {text}})\n",
    "    ON CREATE SET w.count = 1\n",
    "    ON MATCH SET w.count = w.count + 1\n",
    "    ''',\n",
    "    text='elo')"
   ]
  },
  {
   "cell_type": "markdown",
   "metadata": {},
   "source": [
    "Create a NEXT relation between two word nodes"
   ]
  },
  {
   "cell_type": "code",
   "execution_count": 17,
   "metadata": {},
   "outputs": [
    {
     "data": {
      "text/plain": [
       "<py2neo.database.Cursor at 0x10f83e3c8>"
      ]
     },
     "execution_count": 17,
     "metadata": {},
     "output_type": "execute_result"
    }
   ],
   "source": [
    "graph.run(\n",
    "    '''\n",
    "    MATCH (source:Word {text: {source_text}}),\n",
    "          (destination:Word {text: {destination_text}})\n",
    "    MERGE (source)-[rel:NEXT]->(destination)\n",
    "    ON CREATE SET rel.count = 1\n",
    "    ON MATCH SET rel.count = rel.count + 1''',\n",
    "    source_text='salih', destination_text='cawani')"
   ]
  },
  {
   "cell_type": "markdown",
   "metadata": {},
   "source": [
    "Two functions that create nodes and relationships but we won't use them for now as issuing one big query means less calls to the Neo4j API and letting it optimize Cypher queries better"
   ]
  },
  {
   "cell_type": "code",
   "execution_count": 23,
   "metadata": {},
   "outputs": [],
   "source": [
    "def merge_node(node_text):\n",
    "    graph.run(\n",
    "        '''\n",
    "        MERGE (w:Word {text: {text}})\n",
    "        ON CREATE SET w.count = 1\n",
    "        ON MATCH SET w.count = w.count + 1\n",
    "        ''', text=node_text)"
   ]
  },
  {
   "cell_type": "code",
   "execution_count": 24,
   "metadata": {},
   "outputs": [],
   "source": [
    "def merge_relation(source_text, destination_text):\n",
    "    graph.run(\n",
    "        '''\n",
    "        MATCH (source:Word {text: {source_text}}),\n",
    "              (destination:Word {text: {destination_text}})\n",
    "        MERGE (source)-[rel:NEXT]->(destination)\n",
    "        ON CREATE SET rel.count = 1\n",
    "        ON MATCH SET rel.count = rel.count + 1\n",
    "        ''', source_text=source_text, destination_text=destination_text)"
   ]
  },
  {
   "cell_type": "markdown",
   "metadata": {},
   "source": [
    "One function to create two nodes, if they don't already exist then connect them with a relation"
   ]
  },
  {
   "cell_type": "code",
   "execution_count": 33,
   "metadata": {},
   "outputs": [],
   "source": [
    "def merge_triple(source, destination):\n",
    "    graph.run(\n",
    "        '''\n",
    "        MERGE (source:Word {text: {source_text}})\n",
    "        ON CREATE SET source.count = 1\n",
    "        ON MATCH SET source.count = source.count + 1\n",
    "        MERGE (destination:Word {text: {destination_text}})\n",
    "        ON CREATE SET destination.count = 1\n",
    "        ON MATCH SET destination.count = destination.count + 1\n",
    "        MERGE (source)-[rel:NEXT]->(destination)\n",
    "        ON CREATE SET rel.count = 1\n",
    "        ON MATCH SET rel.count = rel.count + 1\n",
    "        ''', \n",
    "        source_text=source, destination_text=destination)"
   ]
  },
  {
   "cell_type": "markdown",
   "metadata": {},
   "source": [
    "The next bit consumes the data file line by line to reduce memory usage and issue queries for each pair of words"
   ]
  },
  {
   "cell_type": "code",
   "execution_count": 43,
   "metadata": {},
   "outputs": [
    {
     "name": "stdout",
     "output_type": "stream",
     "text": [
      "32436"
     ]
    }
   ],
   "source": [
    "with open(data_file_path, 'r+') as f:\n",
    "    line = ' '\n",
    "    cnt = 0\n",
    "    while line:\n",
    "        cnt += 1\n",
    "        sys.stdout.write('\\r%d' % cnt)\n",
    "        words = [x for x in line.strip().split()]\n",
    "        for i in range(len(words) - 1):\n",
    "            merge_triple(words[i], words[i + 1])\n",
    "        line = f.readline()"
   ]
  }
 ],
 "metadata": {
  "kernelspec": {
   "display_name": "Python 3",
   "language": "python",
   "name": "python3"
  },
  "language_info": {
   "codemirror_mode": {
    "name": "ipython",
    "version": 3
   },
   "file_extension": ".py",
   "mimetype": "text/x-python",
   "name": "python",
   "nbconvert_exporter": "python",
   "pygments_lexer": "ipython3",
   "version": "3.6.5"
  }
 },
 "nbformat": 4,
 "nbformat_minor": 2
}
